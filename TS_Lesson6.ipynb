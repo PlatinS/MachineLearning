{
 "cells": [
  {
   "cell_type": "markdown",
   "metadata": {},
   "source": [
    "### __1__. Imports"
   ]
  },
  {
   "cell_type": "code",
   "execution_count": 1,
   "metadata": {},
   "outputs": [],
   "source": [
    "import pandas as pd\n",
    "import numpy as np\n",
    "import itertools\n",
    "import datetime\n",
    "import matplotlib\n",
    "import matplotlib.image as img\n",
    "import matplotlib.pyplot as plt\n",
    "import matplotlib.ticker as ticker\n",
    "%matplotlib inline\n",
    "matplotlib.rcParams.update({'font.size': 12})\n",
    "matplotlib.rcParams.update({'figure.figsize': (12,6)})\n",
    "matplotlib.rcParams[\"axes.grid\"] = True"
   ]
  },
  {
   "cell_type": "code",
   "execution_count": 2,
   "metadata": {},
   "outputs": [],
   "source": [
    "import seaborn as sns\n",
    "sns.set_style('whitegrid')\n",
    "sns.set_context('notebook')\n",
    "sns.set_palette('muted')"
   ]
  },
  {
   "cell_type": "code",
   "execution_count": 3,
   "metadata": {},
   "outputs": [
    {
     "name": "stdout",
     "output_type": "stream",
     "text": [
      "pandas    :  0.25.1\n",
      "numpy     :  1.17.3\n",
      "matplotlib:  3.1.1\n",
      "seaborn   :  0.9.0\n"
     ]
    }
   ],
   "source": [
    "print('pandas    : ',pd.__version__)\n",
    "print('numpy     : ',np.__version__)\n",
    "print('matplotlib: ',matplotlib.__version__)\n",
    "print('seaborn   : ',sns.__version__)"
   ]
  },
  {
   "cell_type": "code",
   "execution_count": 4,
   "metadata": {},
   "outputs": [],
   "source": [
    "from sklearn.feature_selection import f_classif\n",
    "from sklearn.feature_selection import SelectKBest\n",
    "from imblearn.over_sampling import SMOTE\n",
    "\n",
    "from sklearn import preprocessing\n",
    "from sklearn.preprocessing import StandardScaler\n",
    "from sklearn.preprocessing import MinMaxScaler\n",
    "from sklearn.linear_model import LogisticRegression\n",
    "from catboost import CatBoostClassifier\n",
    "from xgboost import XGBClassifier\n",
    "\n",
    "from sklearn.metrics import classification_report\n",
    "from sklearn.metrics import accuracy_score, f1_score, precision_score, recall_score\n",
    "from sklearn.metrics import confusion_matrix, auc, roc_auc_score, roc_curve\n",
    "from sklearn.model_selection import GridSearchCV\n",
    "from sklearn.model_selection import train_test_split"
   ]
  },
  {
   "cell_type": "markdown",
   "metadata": {},
   "source": [
    "### __2__. Data Loading and Analysis"
   ]
  },
  {
   "cell_type": "code",
   "execution_count": 5,
   "metadata": {},
   "outputs": [
    {
     "data": {
      "text/html": [
       "<div>\n",
       "<style scoped>\n",
       "    .dataframe tbody tr th:only-of-type {\n",
       "        vertical-align: middle;\n",
       "    }\n",
       "\n",
       "    .dataframe tbody tr th {\n",
       "        vertical-align: top;\n",
       "    }\n",
       "\n",
       "    .dataframe thead th {\n",
       "        text-align: right;\n",
       "    }\n",
       "</style>\n",
       "<table border=\"1\" class=\"dataframe\">\n",
       "  <thead>\n",
       "    <tr style=\"text-align: right;\">\n",
       "      <th></th>\n",
       "      <th>0</th>\n",
       "      <th>1</th>\n",
       "      <th>2</th>\n",
       "      <th>3</th>\n",
       "      <th>4</th>\n",
       "      <th>5</th>\n",
       "      <th>6</th>\n",
       "      <th>7</th>\n",
       "    </tr>\n",
       "  </thead>\n",
       "  <tbody>\n",
       "    <tr>\n",
       "      <td>customerID</td>\n",
       "      <td>7590-VHVEG</td>\n",
       "      <td>5575-GNVDE</td>\n",
       "      <td>3668-QPYBK</td>\n",
       "      <td>7795-CFOCW</td>\n",
       "      <td>9237-HQITU</td>\n",
       "      <td>9305-CDSKC</td>\n",
       "      <td>1452-KIOVK</td>\n",
       "      <td>6713-OKOMC</td>\n",
       "    </tr>\n",
       "    <tr>\n",
       "      <td>gender</td>\n",
       "      <td>Female</td>\n",
       "      <td>Male</td>\n",
       "      <td>Male</td>\n",
       "      <td>Male</td>\n",
       "      <td>Female</td>\n",
       "      <td>Female</td>\n",
       "      <td>Male</td>\n",
       "      <td>Female</td>\n",
       "    </tr>\n",
       "    <tr>\n",
       "      <td>SeniorCitizen</td>\n",
       "      <td>0</td>\n",
       "      <td>0</td>\n",
       "      <td>0</td>\n",
       "      <td>0</td>\n",
       "      <td>0</td>\n",
       "      <td>0</td>\n",
       "      <td>0</td>\n",
       "      <td>0</td>\n",
       "    </tr>\n",
       "    <tr>\n",
       "      <td>Partner</td>\n",
       "      <td>Yes</td>\n",
       "      <td>No</td>\n",
       "      <td>No</td>\n",
       "      <td>No</td>\n",
       "      <td>No</td>\n",
       "      <td>No</td>\n",
       "      <td>No</td>\n",
       "      <td>No</td>\n",
       "    </tr>\n",
       "    <tr>\n",
       "      <td>Dependents</td>\n",
       "      <td>No</td>\n",
       "      <td>No</td>\n",
       "      <td>No</td>\n",
       "      <td>No</td>\n",
       "      <td>No</td>\n",
       "      <td>No</td>\n",
       "      <td>Yes</td>\n",
       "      <td>No</td>\n",
       "    </tr>\n",
       "    <tr>\n",
       "      <td>tenure</td>\n",
       "      <td>1</td>\n",
       "      <td>34</td>\n",
       "      <td>2</td>\n",
       "      <td>45</td>\n",
       "      <td>2</td>\n",
       "      <td>8</td>\n",
       "      <td>22</td>\n",
       "      <td>10</td>\n",
       "    </tr>\n",
       "    <tr>\n",
       "      <td>PhoneService</td>\n",
       "      <td>No</td>\n",
       "      <td>Yes</td>\n",
       "      <td>Yes</td>\n",
       "      <td>No</td>\n",
       "      <td>Yes</td>\n",
       "      <td>Yes</td>\n",
       "      <td>Yes</td>\n",
       "      <td>No</td>\n",
       "    </tr>\n",
       "    <tr>\n",
       "      <td>MultipleLines</td>\n",
       "      <td>No phone service</td>\n",
       "      <td>No</td>\n",
       "      <td>No</td>\n",
       "      <td>No phone service</td>\n",
       "      <td>No</td>\n",
       "      <td>Yes</td>\n",
       "      <td>Yes</td>\n",
       "      <td>No phone service</td>\n",
       "    </tr>\n",
       "    <tr>\n",
       "      <td>InternetService</td>\n",
       "      <td>DSL</td>\n",
       "      <td>DSL</td>\n",
       "      <td>DSL</td>\n",
       "      <td>DSL</td>\n",
       "      <td>Fiber optic</td>\n",
       "      <td>Fiber optic</td>\n",
       "      <td>Fiber optic</td>\n",
       "      <td>DSL</td>\n",
       "    </tr>\n",
       "    <tr>\n",
       "      <td>OnlineSecurity</td>\n",
       "      <td>No</td>\n",
       "      <td>Yes</td>\n",
       "      <td>Yes</td>\n",
       "      <td>Yes</td>\n",
       "      <td>No</td>\n",
       "      <td>No</td>\n",
       "      <td>No</td>\n",
       "      <td>Yes</td>\n",
       "    </tr>\n",
       "    <tr>\n",
       "      <td>OnlineBackup</td>\n",
       "      <td>Yes</td>\n",
       "      <td>No</td>\n",
       "      <td>Yes</td>\n",
       "      <td>No</td>\n",
       "      <td>No</td>\n",
       "      <td>No</td>\n",
       "      <td>Yes</td>\n",
       "      <td>No</td>\n",
       "    </tr>\n",
       "    <tr>\n",
       "      <td>DeviceProtection</td>\n",
       "      <td>No</td>\n",
       "      <td>Yes</td>\n",
       "      <td>No</td>\n",
       "      <td>Yes</td>\n",
       "      <td>No</td>\n",
       "      <td>Yes</td>\n",
       "      <td>No</td>\n",
       "      <td>No</td>\n",
       "    </tr>\n",
       "    <tr>\n",
       "      <td>TechSupport</td>\n",
       "      <td>No</td>\n",
       "      <td>No</td>\n",
       "      <td>No</td>\n",
       "      <td>Yes</td>\n",
       "      <td>No</td>\n",
       "      <td>No</td>\n",
       "      <td>No</td>\n",
       "      <td>No</td>\n",
       "    </tr>\n",
       "    <tr>\n",
       "      <td>StreamingTV</td>\n",
       "      <td>No</td>\n",
       "      <td>No</td>\n",
       "      <td>No</td>\n",
       "      <td>No</td>\n",
       "      <td>No</td>\n",
       "      <td>Yes</td>\n",
       "      <td>Yes</td>\n",
       "      <td>No</td>\n",
       "    </tr>\n",
       "    <tr>\n",
       "      <td>StreamingMovies</td>\n",
       "      <td>No</td>\n",
       "      <td>No</td>\n",
       "      <td>No</td>\n",
       "      <td>No</td>\n",
       "      <td>No</td>\n",
       "      <td>Yes</td>\n",
       "      <td>No</td>\n",
       "      <td>No</td>\n",
       "    </tr>\n",
       "    <tr>\n",
       "      <td>Contract</td>\n",
       "      <td>Month-to-month</td>\n",
       "      <td>One year</td>\n",
       "      <td>Month-to-month</td>\n",
       "      <td>One year</td>\n",
       "      <td>Month-to-month</td>\n",
       "      <td>Month-to-month</td>\n",
       "      <td>Month-to-month</td>\n",
       "      <td>Month-to-month</td>\n",
       "    </tr>\n",
       "    <tr>\n",
       "      <td>PaperlessBilling</td>\n",
       "      <td>Yes</td>\n",
       "      <td>No</td>\n",
       "      <td>Yes</td>\n",
       "      <td>No</td>\n",
       "      <td>Yes</td>\n",
       "      <td>Yes</td>\n",
       "      <td>Yes</td>\n",
       "      <td>No</td>\n",
       "    </tr>\n",
       "    <tr>\n",
       "      <td>PaymentMethod</td>\n",
       "      <td>Electronic check</td>\n",
       "      <td>Mailed check</td>\n",
       "      <td>Mailed check</td>\n",
       "      <td>Bank transfer (automatic)</td>\n",
       "      <td>Electronic check</td>\n",
       "      <td>Electronic check</td>\n",
       "      <td>Credit card (automatic)</td>\n",
       "      <td>Mailed check</td>\n",
       "    </tr>\n",
       "    <tr>\n",
       "      <td>MonthlyCharges</td>\n",
       "      <td>29.85</td>\n",
       "      <td>56.95</td>\n",
       "      <td>53.85</td>\n",
       "      <td>42.3</td>\n",
       "      <td>70.7</td>\n",
       "      <td>99.65</td>\n",
       "      <td>89.1</td>\n",
       "      <td>29.75</td>\n",
       "    </tr>\n",
       "    <tr>\n",
       "      <td>TotalCharges</td>\n",
       "      <td>29.85</td>\n",
       "      <td>1889.5</td>\n",
       "      <td>108.15</td>\n",
       "      <td>1840.75</td>\n",
       "      <td>151.65</td>\n",
       "      <td>820.5</td>\n",
       "      <td>1949.4</td>\n",
       "      <td>301.9</td>\n",
       "    </tr>\n",
       "    <tr>\n",
       "      <td>Churn</td>\n",
       "      <td>No</td>\n",
       "      <td>No</td>\n",
       "      <td>Yes</td>\n",
       "      <td>No</td>\n",
       "      <td>Yes</td>\n",
       "      <td>Yes</td>\n",
       "      <td>No</td>\n",
       "      <td>No</td>\n",
       "    </tr>\n",
       "  </tbody>\n",
       "</table>\n",
       "</div>"
      ],
      "text/plain": [
       "                                 0             1               2  \\\n",
       "customerID              7590-VHVEG    5575-GNVDE      3668-QPYBK   \n",
       "gender                      Female          Male            Male   \n",
       "SeniorCitizen                    0             0               0   \n",
       "Partner                        Yes            No              No   \n",
       "Dependents                      No            No              No   \n",
       "tenure                           1            34               2   \n",
       "PhoneService                    No           Yes             Yes   \n",
       "MultipleLines     No phone service            No              No   \n",
       "InternetService                DSL           DSL             DSL   \n",
       "OnlineSecurity                  No           Yes             Yes   \n",
       "OnlineBackup                   Yes            No             Yes   \n",
       "DeviceProtection                No           Yes              No   \n",
       "TechSupport                     No            No              No   \n",
       "StreamingTV                     No            No              No   \n",
       "StreamingMovies                 No            No              No   \n",
       "Contract            Month-to-month      One year  Month-to-month   \n",
       "PaperlessBilling               Yes            No             Yes   \n",
       "PaymentMethod     Electronic check  Mailed check    Mailed check   \n",
       "MonthlyCharges               29.85         56.95           53.85   \n",
       "TotalCharges                 29.85        1889.5          108.15   \n",
       "Churn                           No            No             Yes   \n",
       "\n",
       "                                          3                 4  \\\n",
       "customerID                       7795-CFOCW        9237-HQITU   \n",
       "gender                                 Male            Female   \n",
       "SeniorCitizen                             0                 0   \n",
       "Partner                                  No                No   \n",
       "Dependents                               No                No   \n",
       "tenure                                   45                 2   \n",
       "PhoneService                             No               Yes   \n",
       "MultipleLines              No phone service                No   \n",
       "InternetService                         DSL       Fiber optic   \n",
       "OnlineSecurity                          Yes                No   \n",
       "OnlineBackup                             No                No   \n",
       "DeviceProtection                        Yes                No   \n",
       "TechSupport                             Yes                No   \n",
       "StreamingTV                              No                No   \n",
       "StreamingMovies                          No                No   \n",
       "Contract                           One year    Month-to-month   \n",
       "PaperlessBilling                         No               Yes   \n",
       "PaymentMethod     Bank transfer (automatic)  Electronic check   \n",
       "MonthlyCharges                         42.3              70.7   \n",
       "TotalCharges                        1840.75            151.65   \n",
       "Churn                                    No               Yes   \n",
       "\n",
       "                                 5                        6                 7  \n",
       "customerID              9305-CDSKC               1452-KIOVK        6713-OKOMC  \n",
       "gender                      Female                     Male            Female  \n",
       "SeniorCitizen                    0                        0                 0  \n",
       "Partner                         No                       No                No  \n",
       "Dependents                      No                      Yes                No  \n",
       "tenure                           8                       22                10  \n",
       "PhoneService                   Yes                      Yes                No  \n",
       "MultipleLines                  Yes                      Yes  No phone service  \n",
       "InternetService        Fiber optic              Fiber optic               DSL  \n",
       "OnlineSecurity                  No                       No               Yes  \n",
       "OnlineBackup                    No                      Yes                No  \n",
       "DeviceProtection               Yes                       No                No  \n",
       "TechSupport                     No                       No                No  \n",
       "StreamingTV                    Yes                      Yes                No  \n",
       "StreamingMovies                Yes                       No                No  \n",
       "Contract            Month-to-month           Month-to-month    Month-to-month  \n",
       "PaperlessBilling               Yes                      Yes                No  \n",
       "PaymentMethod     Electronic check  Credit card (automatic)      Mailed check  \n",
       "MonthlyCharges               99.65                     89.1             29.75  \n",
       "TotalCharges                 820.5                   1949.4             301.9  \n",
       "Churn                          Yes                       No                No  "
      ]
     },
     "execution_count": 5,
     "metadata": {},
     "output_type": "execute_result"
    }
   ],
   "source": [
    "df = pd.read_csv(r\"./WA_Fn-UseC_-Telco-Customer-Churn.csv\")\n",
    "df.head(8).T"
   ]
  },
  {
   "cell_type": "code",
   "execution_count": 6,
   "metadata": {},
   "outputs": [
    {
     "name": "stdout",
     "output_type": "stream",
     "text": [
      "<class 'pandas.core.frame.DataFrame'>\n",
      "RangeIndex: 7043 entries, 0 to 7042\n",
      "Data columns (total 21 columns):\n",
      "customerID          7043 non-null object\n",
      "gender              7043 non-null object\n",
      "SeniorCitizen       7043 non-null int64\n",
      "Partner             7043 non-null object\n",
      "Dependents          7043 non-null object\n",
      "tenure              7043 non-null int64\n",
      "PhoneService        7043 non-null object\n",
      "MultipleLines       7043 non-null object\n",
      "InternetService     7043 non-null object\n",
      "OnlineSecurity      7043 non-null object\n",
      "OnlineBackup        7043 non-null object\n",
      "DeviceProtection    7043 non-null object\n",
      "TechSupport         7043 non-null object\n",
      "StreamingTV         7043 non-null object\n",
      "StreamingMovies     7043 non-null object\n",
      "Contract            7043 non-null object\n",
      "PaperlessBilling    7043 non-null object\n",
      "PaymentMethod       7043 non-null object\n",
      "MonthlyCharges      7043 non-null float64\n",
      "TotalCharges        7043 non-null object\n",
      "Churn               7043 non-null object\n",
      "dtypes: float64(1), int64(2), object(18)\n",
      "memory usage: 1.1+ MB\n"
     ]
    }
   ],
   "source": [
    "df.info()"
   ]
  },
  {
   "cell_type": "code",
   "execution_count": 7,
   "metadata": {},
   "outputs": [
    {
     "data": {
      "text/plain": [
       "No     5174\n",
       "Yes    1869\n",
       "Name: Churn, dtype: int64"
      ]
     },
     "execution_count": 7,
     "metadata": {},
     "output_type": "execute_result"
    }
   ],
   "source": [
    "# Обзор целевой переменной\n",
    "df['Churn'].value_counts()"
   ]
  },
  {
   "cell_type": "code",
   "execution_count": 8,
   "metadata": {},
   "outputs": [
    {
     "name": "stdout",
     "output_type": "stream",
     "text": [
      "Rows     :  7043\n",
      "Columns  :  21\n",
      "\n",
      "Features : \n",
      " ['customerID', 'gender', 'SeniorCitizen', 'Partner', 'Dependents', 'tenure', 'PhoneService', 'MultipleLines', 'InternetService', 'OnlineSecurity', 'OnlineBackup', 'DeviceProtection', 'TechSupport', 'StreamingTV', 'StreamingMovies', 'Contract', 'PaperlessBilling', 'PaymentMethod', 'MonthlyCharges', 'TotalCharges', 'Churn']\n",
      "\n",
      "Missing values :   0\n",
      "\n",
      "Unique values :  \n",
      " customerID          7043\n",
      "gender                 2\n",
      "SeniorCitizen          2\n",
      "Partner                2\n",
      "Dependents             2\n",
      "tenure                73\n",
      "PhoneService           2\n",
      "MultipleLines          3\n",
      "InternetService        3\n",
      "OnlineSecurity         3\n",
      "OnlineBackup           3\n",
      "DeviceProtection       3\n",
      "TechSupport            3\n",
      "StreamingTV            3\n",
      "StreamingMovies        3\n",
      "Contract               3\n",
      "PaperlessBilling       2\n",
      "PaymentMethod          4\n",
      "MonthlyCharges      1585\n",
      "TotalCharges        6531\n",
      "Churn                  2\n",
      "dtype: int64\n"
     ]
    }
   ],
   "source": [
    "print (\"Rows     : \" , df.shape[0])\n",
    "print (\"Columns  : \" , df.shape[1])\n",
    "print (\"\\nFeatures : \\n\" , df.columns.tolist())\n",
    "print (\"\\nMissing values :  \",  df.isnull().sum().values.sum())\n",
    "print (\"\\nUnique values :  \\n\", df.nunique())"
   ]
  },
  {
   "cell_type": "code",
   "execution_count": 9,
   "metadata": {},
   "outputs": [
    {
     "name": "stdout",
     "output_type": "stream",
     "text": [
      "MultipleLines\n",
      "====================\n",
      "No                  3390\n",
      "Yes                 2971\n",
      "No phone service     682\n",
      "Name: MultipleLines, dtype: int64\n",
      "****************************************\n",
      "\n",
      "InternetService\n",
      "====================\n",
      "Fiber optic    3096\n",
      "DSL            2421\n",
      "No             1526\n",
      "Name: InternetService, dtype: int64\n",
      "****************************************\n",
      "\n",
      "OnlineSecurity\n",
      "====================\n",
      "No                     3498\n",
      "Yes                    2019\n",
      "No internet service    1526\n",
      "Name: OnlineSecurity, dtype: int64\n",
      "****************************************\n",
      "\n",
      "OnlineBackup\n",
      "====================\n",
      "No                     3088\n",
      "Yes                    2429\n",
      "No internet service    1526\n",
      "Name: OnlineBackup, dtype: int64\n",
      "****************************************\n",
      "\n",
      "DeviceProtection\n",
      "====================\n",
      "No                     3095\n",
      "Yes                    2422\n",
      "No internet service    1526\n",
      "Name: DeviceProtection, dtype: int64\n",
      "****************************************\n",
      "\n",
      "TechSupport\n",
      "====================\n",
      "No                     3473\n",
      "Yes                    2044\n",
      "No internet service    1526\n",
      "Name: TechSupport, dtype: int64\n",
      "****************************************\n",
      "\n",
      "StreamingTV\n",
      "====================\n",
      "No                     2810\n",
      "Yes                    2707\n",
      "No internet service    1526\n",
      "Name: StreamingTV, dtype: int64\n",
      "****************************************\n",
      "\n",
      "StreamingMovies\n",
      "====================\n",
      "No                     2785\n",
      "Yes                    2732\n",
      "No internet service    1526\n",
      "Name: StreamingMovies, dtype: int64\n",
      "****************************************\n",
      "\n",
      "Contract\n",
      "====================\n",
      "Month-to-month    3875\n",
      "Two year          1695\n",
      "One year          1473\n",
      "Name: Contract, dtype: int64\n",
      "****************************************\n",
      "\n",
      "PaperlessBilling\n",
      "====================\n",
      "Yes    4171\n",
      "No     2872\n",
      "Name: PaperlessBilling, dtype: int64\n",
      "****************************************\n",
      "\n",
      "PaymentMethod\n",
      "====================\n",
      "Electronic check             2365\n",
      "Mailed check                 1612\n",
      "Bank transfer (automatic)    1544\n",
      "Credit card (automatic)      1522\n",
      "Name: PaymentMethod, dtype: int64\n",
      "****************************************\n",
      "\n"
     ]
    }
   ],
   "source": [
    "objcol = ['MultipleLines', 'InternetService', 'OnlineSecurity', 'OnlineBackup', 'DeviceProtection',\n",
    "          'TechSupport', 'StreamingTV', 'StreamingMovies', 'Contract', 'PaperlessBilling', 'PaymentMethod']\n",
    "for colname in objcol:\n",
    "    print(str(colname) + '\\n' + '=' * 20 + '\\n' + str(df[colname].value_counts()) + '\\n' + '*' * 40 + '\\n')"
   ]
  },
  {
   "cell_type": "code",
   "execution_count": 10,
   "metadata": {},
   "outputs": [],
   "source": [
    "# Выделим отложенную выборку\n",
    "telcom, telcom_defer = train_test_split(df, test_size = 0.20, random_state=42)"
   ]
  },
  {
   "cell_type": "markdown",
   "metadata": {},
   "source": [
    "### __3__. Data manipulation - Catboost"
   ]
  },
  {
   "cell_type": "code",
   "execution_count": 11,
   "metadata": {},
   "outputs": [],
   "source": [
    "def preparation1(df):\n",
    "    # Drop customerID column\n",
    "    df = df.drop(['customerID'], axis = 1)\n",
    "\n",
    "    #Convert TotalCharges to the right column data type, float64\n",
    "    df['TotalCharges'] = pd.to_numeric(df['TotalCharges'], errors='coerce')\n",
    "    df['TotalCharges'].fillna(-1, inplace = True)\n",
    "    \n",
    "    #convert to float type\n",
    "    df[\"tenure\"] = df[\"tenure\"].astype(float)\n",
    "   \n",
    "    #replace values\n",
    "    df[\"SeniorCitizen\"] = df[\"SeniorCitizen\"].replace({1:\"Yes\", 0:\"No\"})\n",
    "    df[\"Churn\"] = df[\"Churn\"].replace({\"Yes\": 1, \"No\": 0})\n",
    "    return df"
   ]
  },
  {
   "cell_type": "code",
   "execution_count": 12,
   "metadata": {},
   "outputs": [],
   "source": [
    "df_ = preparation1(telcom)\n",
    "dfd_ = preparation1(telcom_defer)"
   ]
  },
  {
   "cell_type": "code",
   "execution_count": 13,
   "metadata": {},
   "outputs": [
    {
     "name": "stdout",
     "output_type": "stream",
     "text": [
      "<class 'pandas.core.frame.DataFrame'>\n",
      "Int64Index: 5634 entries, 2142 to 860\n",
      "Data columns (total 20 columns):\n",
      "gender              5634 non-null object\n",
      "SeniorCitizen       5634 non-null object\n",
      "Partner             5634 non-null object\n",
      "Dependents          5634 non-null object\n",
      "tenure              5634 non-null float64\n",
      "PhoneService        5634 non-null object\n",
      "MultipleLines       5634 non-null object\n",
      "InternetService     5634 non-null object\n",
      "OnlineSecurity      5634 non-null object\n",
      "OnlineBackup        5634 non-null object\n",
      "DeviceProtection    5634 non-null object\n",
      "TechSupport         5634 non-null object\n",
      "StreamingTV         5634 non-null object\n",
      "StreamingMovies     5634 non-null object\n",
      "Contract            5634 non-null object\n",
      "PaperlessBilling    5634 non-null object\n",
      "PaymentMethod       5634 non-null object\n",
      "MonthlyCharges      5634 non-null float64\n",
      "TotalCharges        5634 non-null float64\n",
      "Churn               5634 non-null int64\n",
      "dtypes: float64(3), int64(1), object(16)\n",
      "memory usage: 924.3+ KB\n"
     ]
    }
   ],
   "source": [
    "df_.info()"
   ]
  },
  {
   "cell_type": "code",
   "execution_count": 14,
   "metadata": {},
   "outputs": [
    {
     "data": {
      "text/plain": [
       "gender              category\n",
       "SeniorCitizen       category\n",
       "Partner             category\n",
       "Dependents          category\n",
       "PhoneService        category\n",
       "MultipleLines       category\n",
       "InternetService     category\n",
       "OnlineSecurity      category\n",
       "OnlineBackup        category\n",
       "DeviceProtection    category\n",
       "TechSupport         category\n",
       "StreamingTV         category\n",
       "StreamingMovies     category\n",
       "Contract            category\n",
       "PaperlessBilling    category\n",
       "PaymentMethod       category\n",
       "dtype: object"
      ]
     },
     "execution_count": 14,
     "metadata": {},
     "output_type": "execute_result"
    }
   ],
   "source": [
    "CAT_FEATURE_NAMES = df_.select_dtypes(include='object').columns\n",
    "\n",
    "for colname in CAT_FEATURE_NAMES:\n",
    "    df_[colname] = pd.Categorical(df_[colname])\n",
    "    \n",
    "df_[CAT_FEATURE_NAMES].dtypes"
   ]
  },
  {
   "cell_type": "code",
   "execution_count": 15,
   "metadata": {},
   "outputs": [],
   "source": [
    "for colname in CAT_FEATURE_NAMES:\n",
    "    dfd_[colname] = pd.Categorical(dfd_[colname])"
   ]
  },
  {
   "cell_type": "code",
   "execution_count": 16,
   "metadata": {},
   "outputs": [
    {
     "data": {
      "text/plain": [
       "0    4138\n",
       "1    1496\n",
       "Name: Churn, dtype: int64"
      ]
     },
     "execution_count": 16,
     "metadata": {},
     "output_type": "execute_result"
    }
   ],
   "source": [
    "# Обзор целевой переменной\n",
    "df_['Churn'].value_counts()"
   ]
  },
  {
   "cell_type": "code",
   "execution_count": 17,
   "metadata": {},
   "outputs": [
    {
     "data": {
      "text/plain": [
       "0    1036\n",
       "1     373\n",
       "Name: Churn, dtype: int64"
      ]
     },
     "execution_count": 17,
     "metadata": {},
     "output_type": "execute_result"
    }
   ],
   "source": [
    "dfd_['Churn'].value_counts()"
   ]
  },
  {
   "cell_type": "code",
   "execution_count": 18,
   "metadata": {},
   "outputs": [
    {
     "data": {
      "text/plain": [
       "gender              0\n",
       "SeniorCitizen       0\n",
       "Partner             0\n",
       "Dependents          0\n",
       "tenure              0\n",
       "PhoneService        0\n",
       "MultipleLines       0\n",
       "InternetService     0\n",
       "OnlineSecurity      0\n",
       "OnlineBackup        0\n",
       "DeviceProtection    0\n",
       "TechSupport         0\n",
       "StreamingTV         0\n",
       "StreamingMovies     0\n",
       "Contract            0\n",
       "PaperlessBilling    0\n",
       "PaymentMethod       0\n",
       "MonthlyCharges      0\n",
       "TotalCharges        0\n",
       "Churn               0\n",
       "dtype: int64"
      ]
     },
     "execution_count": 18,
     "metadata": {},
     "output_type": "execute_result"
    }
   ],
   "source": [
    "# Пропущенные значения\n",
    "df_.isnull().sum()"
   ]
  },
  {
   "cell_type": "code",
   "execution_count": 19,
   "metadata": {},
   "outputs": [],
   "source": [
    "# Подготовим данные для модели\n",
    "X = df_.loc[:,df_.columns != 'Churn']\n",
    "y = df_.loc[:,df_.columns == 'Churn'].to_numpy()"
   ]
  },
  {
   "cell_type": "code",
   "execution_count": 20,
   "metadata": {},
   "outputs": [],
   "source": [
    "X_train, X_test, y_train, y_test = train_test_split(X, y, test_size = 0.25, random_state=42)"
   ]
  },
  {
   "cell_type": "code",
   "execution_count": 21,
   "metadata": {},
   "outputs": [],
   "source": [
    "model_catb = CatBoostClassifier(iterations=200, max_depth=4, class_weights={0: 1, 1: 2.75}, eval_metric='F1',\n",
    "                                verbose=10, random_state=42, use_best_model=True)"
   ]
  },
  {
   "cell_type": "code",
   "execution_count": 22,
   "metadata": {},
   "outputs": [
    {
     "name": "stdout",
     "output_type": "stream",
     "text": [
      "Learning rate set to 0.091105\n",
      "0:\tlearn: 0.7648151\ttest: 0.7498677\tbest: 0.7498677 (0)\ttotal: 187ms\tremaining: 37.2s\n",
      "10:\tlearn: 0.7705153\ttest: 0.7595747\tbest: 0.7595747 (10)\ttotal: 362ms\tremaining: 6.22s\n",
      "20:\tlearn: 0.7729981\ttest: 0.7574812\tbest: 0.7611327 (12)\ttotal: 518ms\tremaining: 4.42s\n",
      "30:\tlearn: 0.7699571\ttest: 0.7555087\tbest: 0.7611327 (12)\ttotal: 625ms\tremaining: 3.41s\n",
      "40:\tlearn: 0.7767819\ttest: 0.7601312\tbest: 0.7611327 (12)\ttotal: 784ms\tremaining: 3.04s\n",
      "50:\tlearn: 0.7783523\ttest: 0.7658228\tbest: 0.7658228 (50)\ttotal: 935ms\tremaining: 2.73s\n",
      "60:\tlearn: 0.7775094\ttest: 0.7651054\tbest: 0.7681312 (55)\ttotal: 1.27s\tremaining: 2.89s\n",
      "70:\tlearn: 0.7799406\ttest: 0.7693567\tbest: 0.7693567 (70)\ttotal: 1.52s\tremaining: 2.76s\n",
      "80:\tlearn: 0.7831687\ttest: 0.7677714\tbest: 0.7705779 (75)\ttotal: 1.68s\tremaining: 2.48s\n",
      "90:\tlearn: 0.7871827\ttest: 0.7705779\tbest: 0.7714352 (84)\ttotal: 1.84s\tremaining: 2.21s\n",
      "100:\tlearn: 0.7903169\ttest: 0.7726480\tbest: 0.7749361 (96)\ttotal: 2s\tremaining: 1.96s\n",
      "110:\tlearn: 0.7920376\ttest: 0.7791454\tbest: 0.7791454 (110)\ttotal: 2.19s\tremaining: 1.75s\n",
      "120:\tlearn: 0.7945940\ttest: 0.7756574\tbest: 0.7802326 (111)\ttotal: 2.36s\tremaining: 1.54s\n",
      "130:\tlearn: 0.7960976\ttest: 0.7752966\tbest: 0.7802326 (111)\ttotal: 2.54s\tremaining: 1.33s\n",
      "140:\tlearn: 0.8000311\ttest: 0.7746841\tbest: 0.7802326 (111)\ttotal: 2.72s\tremaining: 1.14s\n",
      "150:\tlearn: 0.8018029\ttest: 0.7688519\tbest: 0.7802326 (111)\ttotal: 2.92s\tremaining: 946ms\n",
      "160:\tlearn: 0.8050663\ttest: 0.7681963\tbest: 0.7802326 (111)\ttotal: 3.12s\tremaining: 757ms\n",
      "170:\tlearn: 0.8077328\ttest: 0.7685590\tbest: 0.7802326 (111)\ttotal: 3.32s\tremaining: 563ms\n",
      "180:\tlearn: 0.8079775\ttest: 0.7676839\tbest: 0.7802326 (111)\ttotal: 3.52s\tremaining: 370ms\n",
      "190:\tlearn: 0.8106483\ttest: 0.7655582\tbest: 0.7802326 (111)\ttotal: 3.69s\tremaining: 174ms\n",
      "199:\tlearn: 0.8117923\ttest: 0.7651947\tbest: 0.7802326 (111)\ttotal: 3.86s\tremaining: 0us\n",
      "\n",
      "bestTest = 0.7802325581\n",
      "bestIteration = 111\n",
      "\n",
      "Shrink model to first 112 iterations.\n"
     ]
    },
    {
     "data": {
      "text/plain": [
       "<catboost.core.CatBoostClassifier at 0x1e21748d6c8>"
      ]
     },
     "execution_count": 22,
     "metadata": {},
     "output_type": "execute_result"
    }
   ],
   "source": [
    "model_catb.fit(X_train, y_train, CAT_FEATURE_NAMES, eval_set=(X_test, y_test))"
   ]
  },
  {
   "cell_type": "code",
   "execution_count": 23,
   "metadata": {},
   "outputs": [
    {
     "data": {
      "text/plain": [
       "<matplotlib.axes._subplots.AxesSubplot at 0x1e21749f108>"
      ]
     },
     "execution_count": 23,
     "metadata": {},
     "output_type": "execute_result"
    },
    {
     "data": {
      "image/png": "[encoded data removed]",
      "text/plain": [
       "<Figure size 864x432 with 1 Axes>"
      ]
     },
     "metadata": {},
     "output_type": "display_data"
    }
   ],
   "source": [
    "# Выведем график 15-ти наиболее важных признаков (относительно целевого \"Churn\")\n",
    "matplotlib.rcParams.update({'figure.figsize': (12,6)})\n",
    "feat_importances = pd.Series(model_catb.get_feature_importance(), index=X_train.columns)\n",
    "feat_importances.nlargest(15).plot(kind='barh')"
   ]
  },
  {
   "cell_type": "code",
   "execution_count": 24,
   "metadata": {},
   "outputs": [
    {
     "name": "stdout",
     "output_type": "stream",
     "text": [
      "              precision    recall  f1-score   support\n",
      "\n",
      "           0       0.91      0.74      0.82      1030\n",
      "           1       0.53      0.80      0.64       379\n",
      "\n",
      "    accuracy                           0.76      1409\n",
      "   macro avg       0.72      0.77      0.73      1409\n",
      "weighted avg       0.81      0.76      0.77      1409\n",
      "\n"
     ]
    }
   ],
   "source": [
    "y_pred = model_catb.predict(X_test)\n",
    "y_pred_probs = model_catb.predict_proba(X_test)\n",
    "print(classification_report(y_test, y_pred))"
   ]
  },
  {
   "cell_type": "code",
   "execution_count": 25,
   "metadata": {},
   "outputs": [],
   "source": [
    "def show_proba_calibration_plots(y_predicted_probs, y_true_labels):\n",
    "    preds_with_true_labels = np.array(list(zip(y_predicted_probs, y_true_labels)))\n",
    "\n",
    "    thresholds = []\n",
    "    precisions = []\n",
    "    recalls = []\n",
    "    f1_scores = []\n",
    "\n",
    "    for threshold in np.linspace(0.1, 0.8, 15):\n",
    "        thresholds.append(threshold)\n",
    "        precisions.append(precision_score(y_true_labels, list(map(int, y_predicted_probs > threshold))))\n",
    "        recalls.append(recall_score(y_true_labels, list(map(int, y_predicted_probs > threshold))))\n",
    "        f1_scores.append(f1_score(y_true_labels, list(map(int, y_predicted_probs > threshold))))\n",
    "\n",
    "    scores_table = pd.DataFrame({'f1':f1_scores,\n",
    "                                 'precision':precisions,\n",
    "                                 'recall':recalls,\n",
    "                                 'probability':thresholds}).sort_values('f1', ascending=False).round(3)\n",
    "  \n",
    "    figure = plt.figure(figsize = (15, 5))\n",
    "\n",
    "    plt1 = figure.add_subplot(121)\n",
    "    plt1.plot(thresholds, precisions, label='Precision', linewidth=4)\n",
    "    plt1.plot(thresholds, recalls, label='Recall', linewidth=4)\n",
    "    plt1.plot(thresholds, f1_scores, label='F1', linewidth=4)\n",
    "    plt1.set_ylabel('Scores')\n",
    "    plt1.set_xlabel('Probability threshold')\n",
    "    plt1.set_title('Probabilities threshold calibration')\n",
    "    plt1.legend(bbox_to_anchor=(0.25, 0.25))   \n",
    "    plt1.table(cellText = scores_table.values,\n",
    "               colLabels = scores_table.columns, \n",
    "               colLoc = 'center', cellLoc = 'center', loc = 'bottom', bbox = [0, -1.3, 1, 1])\n",
    "\n",
    "    plt2 = figure.add_subplot(122)\n",
    "    plt2.hist(preds_with_true_labels[preds_with_true_labels[:, 1] == 0][:, 0], \n",
    "              label='Another class', color='royalblue', alpha=1)\n",
    "    plt2.hist(preds_with_true_labels[preds_with_true_labels[:, 1] == 1][:, 0], \n",
    "              label='Main class', color='darkcyan', alpha=0.8)\n",
    "    plt2.set_ylabel('Number of examples')\n",
    "    plt2.set_xlabel('Probabilities')\n",
    "    plt2.set_title('Probability histogram')\n",
    "    plt2.legend(bbox_to_anchor=(1, 1))\n",
    "\n",
    "    plt.show()"
   ]
  },
  {
   "cell_type": "code",
   "execution_count": 26,
   "metadata": {},
   "outputs": [
    {
     "data": {
      "image/png": "[encoded data removed]",
      "text/plain": [
       "<Figure size 1080x360 with 2 Axes>"
      ]
     },
     "metadata": {},
     "output_type": "display_data"
    }
   ],
   "source": [
    "show_proba_calibration_plots(y_pred_probs[:, 1], y_test)"
   ]
  },
  {
   "cell_type": "code",
   "execution_count": 27,
   "metadata": {},
   "outputs": [],
   "source": [
    "def calc_pred(x):\n",
    "    return np.array([1 if x >= 0.5 else 0 for x in x])"
   ]
  },
  {
   "cell_type": "code",
   "execution_count": 28,
   "metadata": {},
   "outputs": [],
   "source": [
    "y_pred_ = calc_pred(y_pred_probs[:, 1])"
   ]
  },
  {
   "cell_type": "code",
   "execution_count": 29,
   "metadata": {},
   "outputs": [
    {
     "name": "stdout",
     "output_type": "stream",
     "text": [
      "              precision    recall  f1-score   support\n",
      "\n",
      "           0       0.91      0.74      0.82      1030\n",
      "           1       0.53      0.80      0.64       379\n",
      "\n",
      "    accuracy                           0.76      1409\n",
      "   macro avg       0.72      0.77      0.73      1409\n",
      "weighted avg       0.81      0.76      0.77      1409\n",
      "\n"
     ]
    }
   ],
   "source": [
    "y_pred = model_catb.predict(X_test)\n",
    "y_pred_probs = model_catb.predict_proba(X_test)\n",
    "report_1 = classification_report(y_test, y_pred_)\n",
    "print(report_1)"
   ]
  },
  {
   "cell_type": "code",
   "execution_count": 30,
   "metadata": {},
   "outputs": [],
   "source": [
    "# Проверим на отложенной выборке\n",
    "X = dfd_.loc[:,dfd_.columns != 'Churn']\n",
    "y = dfd_.loc[:,dfd_.columns == 'Churn'].to_numpy()"
   ]
  },
  {
   "cell_type": "code",
   "execution_count": 31,
   "metadata": {},
   "outputs": [
    {
     "name": "stdout",
     "output_type": "stream",
     "text": [
      "              precision    recall  f1-score   support\n",
      "\n",
      "           0       0.92      0.74      0.82      1036\n",
      "           1       0.53      0.82      0.64       373\n",
      "\n",
      "    accuracy                           0.76      1409\n",
      "   macro avg       0.72      0.78      0.73      1409\n",
      "weighted avg       0.82      0.76      0.77      1409\n",
      "\n"
     ]
    }
   ],
   "source": [
    "# Т.к. коэфф. вероятности 0.5 (по-умолчанию), то функцию calc_pred(x) можно не использовать\n",
    "y_pred = model_catb.predict(X)\n",
    "print(classification_report(y, y_pred))"
   ]
  },
  {
   "cell_type": "markdown",
   "metadata": {},
   "source": [
    "### XGBoost"
   ]
  },
  {
   "cell_type": "code",
   "execution_count": 32,
   "metadata": {},
   "outputs": [],
   "source": [
    "from sklearn.preprocessing import LabelEncoder\n",
    "from sklearn.preprocessing import StandardScaler"
   ]
  },
  {
   "cell_type": "code",
   "execution_count": 33,
   "metadata": {},
   "outputs": [],
   "source": [
    "def preparation2(df):\n",
    "    # Drop customerID column\n",
    "    df = df.drop(['customerID'], axis = 1)\n",
    "\n",
    "    #Convert TotalCharges to the right column data type, float64\n",
    "    df['TotalCharges'] = pd.to_numeric(df['TotalCharges'], errors='coerce')\n",
    "    df['TotalCharges'].fillna(-1, inplace = True)\n",
    "    \n",
    "    #convert to float type\n",
    "    df[\"tenure\"] = df[\"tenure\"].astype(float)\n",
    "   \n",
    "    #replace values\n",
    "    df[\"SeniorCitizen\"] = df[\"SeniorCitizen\"].replace({1:\"Yes\", 0:\"No\"})\n",
    "    df[\"Churn\"] = df[\"Churn\"].replace({\"Yes\": 1, \"No\": 0})\n",
    "    \n",
    "    target_col = [\"Churn\"]\n",
    "    cat_cols   = df.nunique()[df.nunique() < 6].keys().tolist()\n",
    "    cat_cols   = [x for x in cat_cols if x not in target_col]\n",
    "    num_cols   = [x for x in df.columns if x not in cat_cols + target_col]\n",
    "    bin_cols   = df.nunique()[df.nunique() == 2].keys().tolist()\n",
    "    #Columns more than 2 values\n",
    "    multi_cols = [i for i in cat_cols if i not in bin_cols]\n",
    "\n",
    "    #Label encoding Binary columns\n",
    "    le = LabelEncoder()\n",
    "    for i in bin_cols :\n",
    "        df[i] = le.fit_transform(df[i])\n",
    "    \n",
    "    #Duplicating columns for multi value columns\n",
    "    df = pd.get_dummies(data = df, columns = multi_cols )\n",
    "    \n",
    "    return df"
   ]
  },
  {
   "cell_type": "code",
   "execution_count": 34,
   "metadata": {},
   "outputs": [],
   "source": [
    "tele2 = telcom.copy()\n",
    "df_ = preparation2(tele2)"
   ]
  },
  {
   "cell_type": "code",
   "execution_count": 35,
   "metadata": {},
   "outputs": [],
   "source": [
    "# Подготовим данные для модели\n",
    "X = df_.loc[:,df_.columns != 'Churn']\n",
    "y = df_.loc[:,df_.columns == 'Churn'].to_numpy()"
   ]
  },
  {
   "cell_type": "code",
   "execution_count": 36,
   "metadata": {},
   "outputs": [],
   "source": [
    "X_train, X_test, y_train, y_test = train_test_split(X, y, test_size = 0.25, random_state=42)"
   ]
  },
  {
   "cell_type": "markdown",
   "metadata": {},
   "source": [
    "#### Балансировка классов"
   ]
  },
  {
   "cell_type": "code",
   "execution_count": 37,
   "metadata": {},
   "outputs": [
    {
     "name": "stdout",
     "output_type": "stream",
     "text": [
      "Before OverSampling '1': [1117]\n",
      "Before OverSampling '0': [3108] \n",
      "\n"
     ]
    }
   ],
   "source": [
    "print(\"Before OverSampling '1': {}\".format(sum(y_train == 1)))\n",
    "print(\"Before OverSampling '0': {} \\n\".format(sum(y_train == 0)))"
   ]
  },
  {
   "cell_type": "code",
   "execution_count": 38,
   "metadata": {},
   "outputs": [
    {
     "name": "stdout",
     "output_type": "stream",
     "text": [
      "After OverSampling, the shape of train_X: (6216, 40)\n",
      "After OverSampling, the shape of train_y: (6216,) \n",
      "\n",
      "After OverSampling, counts of label '1': 3108\n",
      "After OverSampling, counts of label '0': 3108\n"
     ]
    }
   ],
   "source": [
    "sm = SMOTE(random_state = 42)\n",
    "X_train_res, y_train_res = sm.fit_resample(X_train, y_train)\n",
    "\n",
    "print('After OverSampling, the shape of train_X: {}'.format(X_train_res.shape))\n",
    "print('After OverSampling, the shape of train_y: {} \\n'.format(y_train_res.shape))\n",
    "\n",
    "print(\"After OverSampling, counts of label '1': {}\".format(sum(y_train_res == 1)))\n",
    "print(\"After OverSampling, counts of label '0': {}\".format(sum(y_train_res == 0)))"
   ]
  },
  {
   "cell_type": "code",
   "execution_count": 39,
   "metadata": {},
   "outputs": [],
   "source": [
    "xgb_model = XGBClassifier(max_depth=4, learning_rate=0.1, n_estimators=120,\n",
    "                              silent=True, objective='binary:logistic', booster='gbtree')"
   ]
  },
  {
   "cell_type": "code",
   "execution_count": 40,
   "metadata": {},
   "outputs": [
    {
     "data": {
      "text/plain": [
       "XGBClassifier(max_depth=4, n_estimators=120, silent=True)"
      ]
     },
     "execution_count": 40,
     "metadata": {},
     "output_type": "execute_result"
    }
   ],
   "source": [
    "xgb_model.fit(X_train_res, y_train_res)"
   ]
  },
  {
   "cell_type": "code",
   "execution_count": 41,
   "metadata": {},
   "outputs": [
    {
     "name": "stdout",
     "output_type": "stream",
     "text": [
      "              precision    recall  f1-score   support\n",
      "\n",
      "           0       0.85      0.86      0.85      1030\n",
      "           1       0.60      0.59      0.60       379\n",
      "\n",
      "    accuracy                           0.79      1409\n",
      "   macro avg       0.73      0.72      0.73      1409\n",
      "weighted avg       0.78      0.79      0.79      1409\n",
      "\n"
     ]
    }
   ],
   "source": [
    "y_pred = xgb_model.predict(X_test)\n",
    "y_pred_probs = xgb_model.predict_proba(X_test)\n",
    "print(classification_report(y_test, y_pred))"
   ]
  },
  {
   "cell_type": "code",
   "execution_count": 42,
   "metadata": {},
   "outputs": [
    {
     "data": {
      "image/png": "[encoded data removed]",
      "text/plain": [
       "<Figure size 1080x360 with 2 Axes>"
      ]
     },
     "metadata": {},
     "output_type": "display_data"
    }
   ],
   "source": [
    "show_proba_calibration_plots(y_pred_probs[:, 1], y_test)"
   ]
  },
  {
   "cell_type": "code",
   "execution_count": 43,
   "metadata": {},
   "outputs": [],
   "source": [
    "def calc_pred2(x):\n",
    "    return np.array([1 if x >= 0.4 else 0 for x in x])"
   ]
  },
  {
   "cell_type": "code",
   "execution_count": 44,
   "metadata": {},
   "outputs": [],
   "source": [
    "# Проверим на отложенной выборке\n",
    "tele2d = telcom_defer.copy()\n",
    "dfd_ = preparation2(tele2d)"
   ]
  },
  {
   "cell_type": "code",
   "execution_count": 45,
   "metadata": {},
   "outputs": [],
   "source": [
    "# Подготовим данные для модели\n",
    "X = dfd_.loc[:,dfd_.columns != 'Churn']\n",
    "y = dfd_.loc[:,dfd_.columns == 'Churn'].to_numpy()"
   ]
  },
  {
   "cell_type": "code",
   "execution_count": 46,
   "metadata": {},
   "outputs": [
    {
     "name": "stdout",
     "output_type": "stream",
     "text": [
      "              precision    recall  f1-score   support\n",
      "\n",
      "           0       0.90      0.81      0.85      1036\n",
      "           1       0.58      0.74      0.65       373\n",
      "\n",
      "    accuracy                           0.79      1409\n",
      "   macro avg       0.74      0.77      0.75      1409\n",
      "weighted avg       0.81      0.79      0.80      1409\n",
      "\n"
     ]
    }
   ],
   "source": [
    "y_pred_probs = xgb_model.predict_proba(X)\n",
    "y_pred = calc_pred2(y_pred_probs[:, 1])\n",
    "# С вероятностью распределения 0.4\n",
    "report_2 = classification_report(y, y_pred)\n",
    "print(report_2)"
   ]
  },
  {
   "cell_type": "markdown",
   "metadata": {},
   "source": [
    "### Logistic Regression"
   ]
  },
  {
   "cell_type": "code",
   "execution_count": 47,
   "metadata": {},
   "outputs": [],
   "source": [
    "def preparation3(df):\n",
    "    #Convert TotalCharges to the right column data type, float64\n",
    "    df['TotalCharges'] = pd.to_numeric(df['TotalCharges'], errors='coerce')\n",
    "    df['TotalCharges'].fillna(-1, inplace = True)\n",
    "    \n",
    "    #convert to float type\n",
    "    df[\"tenure\"] = df[\"tenure\"].astype(float)\n",
    "   \n",
    "    #replace values\n",
    "    df[\"SeniorCitizen\"] = df[\"SeniorCitizen\"].replace({1:\"Yes\", 0:\"No\"})\n",
    "    df[\"Churn\"] = df[\"Churn\"].replace({\"Yes\": 1, \"No\": 0})\n",
    "    \n",
    "    target_col = [\"Churn\"]\n",
    "    cat_cols   = df.nunique()[df.nunique() < 6].keys().tolist()\n",
    "    cat_cols   = [x for x in cat_cols if x not in target_col]\n",
    "    num_cols   = [x for x in df.columns if x not in cat_cols + target_col]\n",
    "    bin_cols   = df.nunique()[df.nunique() == 2].keys().tolist()\n",
    "    #Columns more than 2 values\n",
    "    multi_cols = [i for i in cat_cols if i not in bin_cols]\n",
    "\n",
    "    #Label encoding Binary columns\n",
    "    le = LabelEncoder()\n",
    "    for i in bin_cols :\n",
    "        df[i] = le.fit_transform(df[i])\n",
    "    \n",
    "    #Duplicating columns for multi value columns\n",
    "    df = pd.get_dummies(data = df, columns = multi_cols )\n",
    "\n",
    "    #Scaling Numerical columns\n",
    "    std = MinMaxScaler()\n",
    "    df['tenure'] = std.fit_transform(df['tenure'].values.reshape(-1, 1))\n",
    "    df['MonthlyCharges'] = std.fit_transform(df['MonthlyCharges'].values.reshape(-1, 1))\n",
    "    df['TotalCharges'] = std.fit_transform(df['TotalCharges'].values.reshape(-1, 1))\n",
    "    #scaled = pd.DataFrame(scaled, columns=num_cols)\n",
    "\n",
    "    #dropping original values merging scaled values for numerical columns\n",
    "    #df = df.drop(columns = num_cols, axis = 1)\n",
    "    #df = df.merge(scaled, left_index=True, right_index=True, how = \"left\")    \n",
    "    \n",
    "    return df"
   ]
  },
  {
   "cell_type": "code",
   "execution_count": 48,
   "metadata": {},
   "outputs": [],
   "source": [
    "tele3  = telcom.copy()\n",
    "tele3 = tele3.drop(['customerID'], axis = 1)\n",
    "tele3d = telcom_defer.copy()\n",
    "tele3d = tele3d.drop(['customerID'], axis = 1)\n",
    "df_ = preparation3(tele3)\n",
    "dfd_ = preparation3(tele3d)"
   ]
  },
  {
   "cell_type": "code",
   "execution_count": 49,
   "metadata": {},
   "outputs": [
    {
     "data": {
      "text/html": [
       "<div>\n",
       "<style scoped>\n",
       "    .dataframe tbody tr th:only-of-type {\n",
       "        vertical-align: middle;\n",
       "    }\n",
       "\n",
       "    .dataframe tbody tr th {\n",
       "        vertical-align: top;\n",
       "    }\n",
       "\n",
       "    .dataframe thead th {\n",
       "        text-align: right;\n",
       "    }\n",
       "</style>\n",
       "<table border=\"1\" class=\"dataframe\">\n",
       "  <thead>\n",
       "    <tr style=\"text-align: right;\">\n",
       "      <th></th>\n",
       "      <th>count</th>\n",
       "      <th>mean</th>\n",
       "      <th>std</th>\n",
       "      <th>min</th>\n",
       "      <th>25%</th>\n",
       "      <th>50%</th>\n",
       "      <th>75%</th>\n",
       "      <th>max</th>\n",
       "    </tr>\n",
       "  </thead>\n",
       "  <tbody>\n",
       "    <tr>\n",
       "      <td>gender</td>\n",
       "      <td>5634.0</td>\n",
       "      <td>0.512425</td>\n",
       "      <td>0.499890</td>\n",
       "      <td>0.0</td>\n",
       "      <td>0.00000</td>\n",
       "      <td>1.000000</td>\n",
       "      <td>1.000000</td>\n",
       "      <td>1.0</td>\n",
       "    </tr>\n",
       "    <tr>\n",
       "      <td>SeniorCitizen</td>\n",
       "      <td>5634.0</td>\n",
       "      <td>0.160809</td>\n",
       "      <td>0.367388</td>\n",
       "      <td>0.0</td>\n",
       "      <td>0.00000</td>\n",
       "      <td>0.000000</td>\n",
       "      <td>0.000000</td>\n",
       "      <td>1.0</td>\n",
       "    </tr>\n",
       "    <tr>\n",
       "      <td>Partner</td>\n",
       "      <td>5634.0</td>\n",
       "      <td>0.484558</td>\n",
       "      <td>0.499806</td>\n",
       "      <td>0.0</td>\n",
       "      <td>0.00000</td>\n",
       "      <td>0.000000</td>\n",
       "      <td>1.000000</td>\n",
       "      <td>1.0</td>\n",
       "    </tr>\n",
       "    <tr>\n",
       "      <td>Dependents</td>\n",
       "      <td>5634.0</td>\n",
       "      <td>0.298722</td>\n",
       "      <td>0.457738</td>\n",
       "      <td>0.0</td>\n",
       "      <td>0.00000</td>\n",
       "      <td>0.000000</td>\n",
       "      <td>1.000000</td>\n",
       "      <td>1.0</td>\n",
       "    </tr>\n",
       "    <tr>\n",
       "      <td>tenure</td>\n",
       "      <td>5634.0</td>\n",
       "      <td>0.449626</td>\n",
       "      <td>0.339230</td>\n",
       "      <td>0.0</td>\n",
       "      <td>0.12500</td>\n",
       "      <td>0.402778</td>\n",
       "      <td>0.763889</td>\n",
       "      <td>1.0</td>\n",
       "    </tr>\n",
       "    <tr>\n",
       "      <td>PhoneService</td>\n",
       "      <td>5634.0</td>\n",
       "      <td>0.902023</td>\n",
       "      <td>0.297309</td>\n",
       "      <td>0.0</td>\n",
       "      <td>1.00000</td>\n",
       "      <td>1.000000</td>\n",
       "      <td>1.000000</td>\n",
       "      <td>1.0</td>\n",
       "    </tr>\n",
       "    <tr>\n",
       "      <td>PaperlessBilling</td>\n",
       "      <td>5634.0</td>\n",
       "      <td>0.590167</td>\n",
       "      <td>0.491846</td>\n",
       "      <td>0.0</td>\n",
       "      <td>0.00000</td>\n",
       "      <td>1.000000</td>\n",
       "      <td>1.000000</td>\n",
       "      <td>1.0</td>\n",
       "    </tr>\n",
       "    <tr>\n",
       "      <td>MonthlyCharges</td>\n",
       "      <td>5634.0</td>\n",
       "      <td>0.464517</td>\n",
       "      <td>0.299844</td>\n",
       "      <td>0.0</td>\n",
       "      <td>0.17439</td>\n",
       "      <td>0.520927</td>\n",
       "      <td>0.714375</td>\n",
       "      <td>1.0</td>\n",
       "    </tr>\n",
       "    <tr>\n",
       "      <td>TotalCharges</td>\n",
       "      <td>5634.0</td>\n",
       "      <td>0.263428</td>\n",
       "      <td>0.260563</td>\n",
       "      <td>0.0</td>\n",
       "      <td>0.04689</td>\n",
       "      <td>0.161948</td>\n",
       "      <td>0.438372</td>\n",
       "      <td>1.0</td>\n",
       "    </tr>\n",
       "    <tr>\n",
       "      <td>Churn</td>\n",
       "      <td>5634.0</td>\n",
       "      <td>0.265531</td>\n",
       "      <td>0.441655</td>\n",
       "      <td>0.0</td>\n",
       "      <td>0.00000</td>\n",
       "      <td>0.000000</td>\n",
       "      <td>1.000000</td>\n",
       "      <td>1.0</td>\n",
       "    </tr>\n",
       "    <tr>\n",
       "      <td>MultipleLines_No</td>\n",
       "      <td>5634.0</td>\n",
       "      <td>0.476571</td>\n",
       "      <td>0.499495</td>\n",
       "      <td>0.0</td>\n",
       "      <td>0.00000</td>\n",
       "      <td>0.000000</td>\n",
       "      <td>1.000000</td>\n",
       "      <td>1.0</td>\n",
       "    </tr>\n",
       "    <tr>\n",
       "      <td>MultipleLines_No phone service</td>\n",
       "      <td>5634.0</td>\n",
       "      <td>0.097977</td>\n",
       "      <td>0.297309</td>\n",
       "      <td>0.0</td>\n",
       "      <td>0.00000</td>\n",
       "      <td>0.000000</td>\n",
       "      <td>0.000000</td>\n",
       "      <td>1.0</td>\n",
       "    </tr>\n",
       "    <tr>\n",
       "      <td>MultipleLines_Yes</td>\n",
       "      <td>5634.0</td>\n",
       "      <td>0.425453</td>\n",
       "      <td>0.494455</td>\n",
       "      <td>0.0</td>\n",
       "      <td>0.00000</td>\n",
       "      <td>0.000000</td>\n",
       "      <td>1.000000</td>\n",
       "      <td>1.0</td>\n",
       "    </tr>\n",
       "    <tr>\n",
       "      <td>InternetService_DSL</td>\n",
       "      <td>5634.0</td>\n",
       "      <td>0.344160</td>\n",
       "      <td>0.475136</td>\n",
       "      <td>0.0</td>\n",
       "      <td>0.00000</td>\n",
       "      <td>0.000000</td>\n",
       "      <td>1.000000</td>\n",
       "      <td>1.0</td>\n",
       "    </tr>\n",
       "    <tr>\n",
       "      <td>InternetService_Fiber optic</td>\n",
       "      <td>5634.0</td>\n",
       "      <td>0.440362</td>\n",
       "      <td>0.496475</td>\n",
       "      <td>0.0</td>\n",
       "      <td>0.00000</td>\n",
       "      <td>0.000000</td>\n",
       "      <td>1.000000</td>\n",
       "      <td>1.0</td>\n",
       "    </tr>\n",
       "    <tr>\n",
       "      <td>InternetService_No</td>\n",
       "      <td>5634.0</td>\n",
       "      <td>0.215477</td>\n",
       "      <td>0.411190</td>\n",
       "      <td>0.0</td>\n",
       "      <td>0.00000</td>\n",
       "      <td>0.000000</td>\n",
       "      <td>0.000000</td>\n",
       "      <td>1.0</td>\n",
       "    </tr>\n",
       "    <tr>\n",
       "      <td>OnlineSecurity_No</td>\n",
       "      <td>5634.0</td>\n",
       "      <td>0.498758</td>\n",
       "      <td>0.500043</td>\n",
       "      <td>0.0</td>\n",
       "      <td>0.00000</td>\n",
       "      <td>0.000000</td>\n",
       "      <td>1.000000</td>\n",
       "      <td>1.0</td>\n",
       "    </tr>\n",
       "    <tr>\n",
       "      <td>OnlineSecurity_No internet service</td>\n",
       "      <td>5634.0</td>\n",
       "      <td>0.215477</td>\n",
       "      <td>0.411190</td>\n",
       "      <td>0.0</td>\n",
       "      <td>0.00000</td>\n",
       "      <td>0.000000</td>\n",
       "      <td>0.000000</td>\n",
       "      <td>1.0</td>\n",
       "    </tr>\n",
       "    <tr>\n",
       "      <td>OnlineSecurity_Yes</td>\n",
       "      <td>5634.0</td>\n",
       "      <td>0.285765</td>\n",
       "      <td>0.451818</td>\n",
       "      <td>0.0</td>\n",
       "      <td>0.00000</td>\n",
       "      <td>0.000000</td>\n",
       "      <td>1.000000</td>\n",
       "      <td>1.0</td>\n",
       "    </tr>\n",
       "    <tr>\n",
       "      <td>OnlineBackup_No</td>\n",
       "      <td>5634.0</td>\n",
       "      <td>0.434505</td>\n",
       "      <td>0.495736</td>\n",
       "      <td>0.0</td>\n",
       "      <td>0.00000</td>\n",
       "      <td>0.000000</td>\n",
       "      <td>1.000000</td>\n",
       "      <td>1.0</td>\n",
       "    </tr>\n",
       "    <tr>\n",
       "      <td>OnlineBackup_No internet service</td>\n",
       "      <td>5634.0</td>\n",
       "      <td>0.215477</td>\n",
       "      <td>0.411190</td>\n",
       "      <td>0.0</td>\n",
       "      <td>0.00000</td>\n",
       "      <td>0.000000</td>\n",
       "      <td>0.000000</td>\n",
       "      <td>1.0</td>\n",
       "    </tr>\n",
       "    <tr>\n",
       "      <td>OnlineBackup_Yes</td>\n",
       "      <td>5634.0</td>\n",
       "      <td>0.350018</td>\n",
       "      <td>0.477018</td>\n",
       "      <td>0.0</td>\n",
       "      <td>0.00000</td>\n",
       "      <td>0.000000</td>\n",
       "      <td>1.000000</td>\n",
       "      <td>1.0</td>\n",
       "    </tr>\n",
       "    <tr>\n",
       "      <td>DeviceProtection_No</td>\n",
       "      <td>5634.0</td>\n",
       "      <td>0.441782</td>\n",
       "      <td>0.496643</td>\n",
       "      <td>0.0</td>\n",
       "      <td>0.00000</td>\n",
       "      <td>0.000000</td>\n",
       "      <td>1.000000</td>\n",
       "      <td>1.0</td>\n",
       "    </tr>\n",
       "    <tr>\n",
       "      <td>DeviceProtection_No internet service</td>\n",
       "      <td>5634.0</td>\n",
       "      <td>0.215477</td>\n",
       "      <td>0.411190</td>\n",
       "      <td>0.0</td>\n",
       "      <td>0.00000</td>\n",
       "      <td>0.000000</td>\n",
       "      <td>0.000000</td>\n",
       "      <td>1.0</td>\n",
       "    </tr>\n",
       "    <tr>\n",
       "      <td>DeviceProtection_Yes</td>\n",
       "      <td>5634.0</td>\n",
       "      <td>0.342741</td>\n",
       "      <td>0.474668</td>\n",
       "      <td>0.0</td>\n",
       "      <td>0.00000</td>\n",
       "      <td>0.000000</td>\n",
       "      <td>1.000000</td>\n",
       "      <td>1.0</td>\n",
       "    </tr>\n",
       "    <tr>\n",
       "      <td>TechSupport_No</td>\n",
       "      <td>5634.0</td>\n",
       "      <td>0.495385</td>\n",
       "      <td>0.500023</td>\n",
       "      <td>0.0</td>\n",
       "      <td>0.00000</td>\n",
       "      <td>0.000000</td>\n",
       "      <td>1.000000</td>\n",
       "      <td>1.0</td>\n",
       "    </tr>\n",
       "    <tr>\n",
       "      <td>TechSupport_No internet service</td>\n",
       "      <td>5634.0</td>\n",
       "      <td>0.215477</td>\n",
       "      <td>0.411190</td>\n",
       "      <td>0.0</td>\n",
       "      <td>0.00000</td>\n",
       "      <td>0.000000</td>\n",
       "      <td>0.000000</td>\n",
       "      <td>1.0</td>\n",
       "    </tr>\n",
       "    <tr>\n",
       "      <td>TechSupport_Yes</td>\n",
       "      <td>5634.0</td>\n",
       "      <td>0.289137</td>\n",
       "      <td>0.453402</td>\n",
       "      <td>0.0</td>\n",
       "      <td>0.00000</td>\n",
       "      <td>0.000000</td>\n",
       "      <td>1.000000</td>\n",
       "      <td>1.0</td>\n",
       "    </tr>\n",
       "    <tr>\n",
       "      <td>StreamingTV_No</td>\n",
       "      <td>5634.0</td>\n",
       "      <td>0.397409</td>\n",
       "      <td>0.489405</td>\n",
       "      <td>0.0</td>\n",
       "      <td>0.00000</td>\n",
       "      <td>0.000000</td>\n",
       "      <td>1.000000</td>\n",
       "      <td>1.0</td>\n",
       "    </tr>\n",
       "    <tr>\n",
       "      <td>StreamingTV_No internet service</td>\n",
       "      <td>5634.0</td>\n",
       "      <td>0.215477</td>\n",
       "      <td>0.411190</td>\n",
       "      <td>0.0</td>\n",
       "      <td>0.00000</td>\n",
       "      <td>0.000000</td>\n",
       "      <td>0.000000</td>\n",
       "      <td>1.0</td>\n",
       "    </tr>\n",
       "    <tr>\n",
       "      <td>StreamingTV_Yes</td>\n",
       "      <td>5634.0</td>\n",
       "      <td>0.387114</td>\n",
       "      <td>0.487133</td>\n",
       "      <td>0.0</td>\n",
       "      <td>0.00000</td>\n",
       "      <td>0.000000</td>\n",
       "      <td>1.000000</td>\n",
       "      <td>1.0</td>\n",
       "    </tr>\n",
       "    <tr>\n",
       "      <td>StreamingMovies_No</td>\n",
       "      <td>5634.0</td>\n",
       "      <td>0.394569</td>\n",
       "      <td>0.488801</td>\n",
       "      <td>0.0</td>\n",
       "      <td>0.00000</td>\n",
       "      <td>0.000000</td>\n",
       "      <td>1.000000</td>\n",
       "      <td>1.0</td>\n",
       "    </tr>\n",
       "    <tr>\n",
       "      <td>StreamingMovies_No internet service</td>\n",
       "      <td>5634.0</td>\n",
       "      <td>0.215477</td>\n",
       "      <td>0.411190</td>\n",
       "      <td>0.0</td>\n",
       "      <td>0.00000</td>\n",
       "      <td>0.000000</td>\n",
       "      <td>0.000000</td>\n",
       "      <td>1.0</td>\n",
       "    </tr>\n",
       "    <tr>\n",
       "      <td>StreamingMovies_Yes</td>\n",
       "      <td>5634.0</td>\n",
       "      <td>0.389954</td>\n",
       "      <td>0.487783</td>\n",
       "      <td>0.0</td>\n",
       "      <td>0.00000</td>\n",
       "      <td>0.000000</td>\n",
       "      <td>1.000000</td>\n",
       "      <td>1.0</td>\n",
       "    </tr>\n",
       "    <tr>\n",
       "      <td>Contract_Month-to-month</td>\n",
       "      <td>5634.0</td>\n",
       "      <td>0.547213</td>\n",
       "      <td>0.497810</td>\n",
       "      <td>0.0</td>\n",
       "      <td>0.00000</td>\n",
       "      <td>1.000000</td>\n",
       "      <td>1.000000</td>\n",
       "      <td>1.0</td>\n",
       "    </tr>\n",
       "    <tr>\n",
       "      <td>Contract_One year</td>\n",
       "      <td>5634.0</td>\n",
       "      <td>0.215122</td>\n",
       "      <td>0.410944</td>\n",
       "      <td>0.0</td>\n",
       "      <td>0.00000</td>\n",
       "      <td>0.000000</td>\n",
       "      <td>0.000000</td>\n",
       "      <td>1.0</td>\n",
       "    </tr>\n",
       "    <tr>\n",
       "      <td>Contract_Two year</td>\n",
       "      <td>5634.0</td>\n",
       "      <td>0.237664</td>\n",
       "      <td>0.425690</td>\n",
       "      <td>0.0</td>\n",
       "      <td>0.00000</td>\n",
       "      <td>0.000000</td>\n",
       "      <td>0.000000</td>\n",
       "      <td>1.0</td>\n",
       "    </tr>\n",
       "    <tr>\n",
       "      <td>PaymentMethod_Bank transfer (automatic)</td>\n",
       "      <td>5634.0</td>\n",
       "      <td>0.219737</td>\n",
       "      <td>0.414105</td>\n",
       "      <td>0.0</td>\n",
       "      <td>0.00000</td>\n",
       "      <td>0.000000</td>\n",
       "      <td>0.000000</td>\n",
       "      <td>1.0</td>\n",
       "    </tr>\n",
       "    <tr>\n",
       "      <td>PaymentMethod_Credit card (automatic)</td>\n",
       "      <td>5634.0</td>\n",
       "      <td>0.217785</td>\n",
       "      <td>0.412777</td>\n",
       "      <td>0.0</td>\n",
       "      <td>0.00000</td>\n",
       "      <td>0.000000</td>\n",
       "      <td>0.000000</td>\n",
       "      <td>1.0</td>\n",
       "    </tr>\n",
       "    <tr>\n",
       "      <td>PaymentMethod_Electronic check</td>\n",
       "      <td>5634.0</td>\n",
       "      <td>0.334931</td>\n",
       "      <td>0.472008</td>\n",
       "      <td>0.0</td>\n",
       "      <td>0.00000</td>\n",
       "      <td>0.000000</td>\n",
       "      <td>1.000000</td>\n",
       "      <td>1.0</td>\n",
       "    </tr>\n",
       "    <tr>\n",
       "      <td>PaymentMethod_Mailed check</td>\n",
       "      <td>5634.0</td>\n",
       "      <td>0.227547</td>\n",
       "      <td>0.419286</td>\n",
       "      <td>0.0</td>\n",
       "      <td>0.00000</td>\n",
       "      <td>0.000000</td>\n",
       "      <td>0.000000</td>\n",
       "      <td>1.0</td>\n",
       "    </tr>\n",
       "  </tbody>\n",
       "</table>\n",
       "</div>"
      ],
      "text/plain": [
       "                                          count      mean       std  min  \\\n",
       "gender                                   5634.0  0.512425  0.499890  0.0   \n",
       "SeniorCitizen                            5634.0  0.160809  0.367388  0.0   \n",
       "Partner                                  5634.0  0.484558  0.499806  0.0   \n",
       "Dependents                               5634.0  0.298722  0.457738  0.0   \n",
       "tenure                                   5634.0  0.449626  0.339230  0.0   \n",
       "PhoneService                             5634.0  0.902023  0.297309  0.0   \n",
       "PaperlessBilling                         5634.0  0.590167  0.491846  0.0   \n",
       "MonthlyCharges                           5634.0  0.464517  0.299844  0.0   \n",
       "TotalCharges                             5634.0  0.263428  0.260563  0.0   \n",
       "Churn                                    5634.0  0.265531  0.441655  0.0   \n",
       "MultipleLines_No                         5634.0  0.476571  0.499495  0.0   \n",
       "MultipleLines_No phone service           5634.0  0.097977  0.297309  0.0   \n",
       "MultipleLines_Yes                        5634.0  0.425453  0.494455  0.0   \n",
       "InternetService_DSL                      5634.0  0.344160  0.475136  0.0   \n",
       "InternetService_Fiber optic              5634.0  0.440362  0.496475  0.0   \n",
       "InternetService_No                       5634.0  0.215477  0.411190  0.0   \n",
       "OnlineSecurity_No                        5634.0  0.498758  0.500043  0.0   \n",
       "OnlineSecurity_No internet service       5634.0  0.215477  0.411190  0.0   \n",
       "OnlineSecurity_Yes                       5634.0  0.285765  0.451818  0.0   \n",
       "OnlineBackup_No                          5634.0  0.434505  0.495736  0.0   \n",
       "OnlineBackup_No internet service         5634.0  0.215477  0.411190  0.0   \n",
       "OnlineBackup_Yes                         5634.0  0.350018  0.477018  0.0   \n",
       "DeviceProtection_No                      5634.0  0.441782  0.496643  0.0   \n",
       "DeviceProtection_No internet service     5634.0  0.215477  0.411190  0.0   \n",
       "DeviceProtection_Yes                     5634.0  0.342741  0.474668  0.0   \n",
       "TechSupport_No                           5634.0  0.495385  0.500023  0.0   \n",
       "TechSupport_No internet service          5634.0  0.215477  0.411190  0.0   \n",
       "TechSupport_Yes                          5634.0  0.289137  0.453402  0.0   \n",
       "StreamingTV_No                           5634.0  0.397409  0.489405  0.0   \n",
       "StreamingTV_No internet service          5634.0  0.215477  0.411190  0.0   \n",
       "StreamingTV_Yes                          5634.0  0.387114  0.487133  0.0   \n",
       "StreamingMovies_No                       5634.0  0.394569  0.488801  0.0   \n",
       "StreamingMovies_No internet service      5634.0  0.215477  0.411190  0.0   \n",
       "StreamingMovies_Yes                      5634.0  0.389954  0.487783  0.0   \n",
       "Contract_Month-to-month                  5634.0  0.547213  0.497810  0.0   \n",
       "Contract_One year                        5634.0  0.215122  0.410944  0.0   \n",
       "Contract_Two year                        5634.0  0.237664  0.425690  0.0   \n",
       "PaymentMethod_Bank transfer (automatic)  5634.0  0.219737  0.414105  0.0   \n",
       "PaymentMethod_Credit card (automatic)    5634.0  0.217785  0.412777  0.0   \n",
       "PaymentMethod_Electronic check           5634.0  0.334931  0.472008  0.0   \n",
       "PaymentMethod_Mailed check               5634.0  0.227547  0.419286  0.0   \n",
       "\n",
       "                                             25%       50%       75%  max  \n",
       "gender                                   0.00000  1.000000  1.000000  1.0  \n",
       "SeniorCitizen                            0.00000  0.000000  0.000000  1.0  \n",
       "Partner                                  0.00000  0.000000  1.000000  1.0  \n",
       "Dependents                               0.00000  0.000000  1.000000  1.0  \n",
       "tenure                                   0.12500  0.402778  0.763889  1.0  \n",
       "PhoneService                             1.00000  1.000000  1.000000  1.0  \n",
       "PaperlessBilling                         0.00000  1.000000  1.000000  1.0  \n",
       "MonthlyCharges                           0.17439  0.520927  0.714375  1.0  \n",
       "TotalCharges                             0.04689  0.161948  0.438372  1.0  \n",
       "Churn                                    0.00000  0.000000  1.000000  1.0  \n",
       "MultipleLines_No                         0.00000  0.000000  1.000000  1.0  \n",
       "MultipleLines_No phone service           0.00000  0.000000  0.000000  1.0  \n",
       "MultipleLines_Yes                        0.00000  0.000000  1.000000  1.0  \n",
       "InternetService_DSL                      0.00000  0.000000  1.000000  1.0  \n",
       "InternetService_Fiber optic              0.00000  0.000000  1.000000  1.0  \n",
       "InternetService_No                       0.00000  0.000000  0.000000  1.0  \n",
       "OnlineSecurity_No                        0.00000  0.000000  1.000000  1.0  \n",
       "OnlineSecurity_No internet service       0.00000  0.000000  0.000000  1.0  \n",
       "OnlineSecurity_Yes                       0.00000  0.000000  1.000000  1.0  \n",
       "OnlineBackup_No                          0.00000  0.000000  1.000000  1.0  \n",
       "OnlineBackup_No internet service         0.00000  0.000000  0.000000  1.0  \n",
       "OnlineBackup_Yes                         0.00000  0.000000  1.000000  1.0  \n",
       "DeviceProtection_No                      0.00000  0.000000  1.000000  1.0  \n",
       "DeviceProtection_No internet service     0.00000  0.000000  0.000000  1.0  \n",
       "DeviceProtection_Yes                     0.00000  0.000000  1.000000  1.0  \n",
       "TechSupport_No                           0.00000  0.000000  1.000000  1.0  \n",
       "TechSupport_No internet service          0.00000  0.000000  0.000000  1.0  \n",
       "TechSupport_Yes                          0.00000  0.000000  1.000000  1.0  \n",
       "StreamingTV_No                           0.00000  0.000000  1.000000  1.0  \n",
       "StreamingTV_No internet service          0.00000  0.000000  0.000000  1.0  \n",
       "StreamingTV_Yes                          0.00000  0.000000  1.000000  1.0  \n",
       "StreamingMovies_No                       0.00000  0.000000  1.000000  1.0  \n",
       "StreamingMovies_No internet service      0.00000  0.000000  0.000000  1.0  \n",
       "StreamingMovies_Yes                      0.00000  0.000000  1.000000  1.0  \n",
       "Contract_Month-to-month                  0.00000  1.000000  1.000000  1.0  \n",
       "Contract_One year                        0.00000  0.000000  0.000000  1.0  \n",
       "Contract_Two year                        0.00000  0.000000  0.000000  1.0  \n",
       "PaymentMethod_Bank transfer (automatic)  0.00000  0.000000  0.000000  1.0  \n",
       "PaymentMethod_Credit card (automatic)    0.00000  0.000000  0.000000  1.0  \n",
       "PaymentMethod_Electronic check           0.00000  0.000000  1.000000  1.0  \n",
       "PaymentMethod_Mailed check               0.00000  0.000000  0.000000  1.0  "
      ]
     },
     "execution_count": 49,
     "metadata": {},
     "output_type": "execute_result"
    }
   ],
   "source": [
    "df_.describe().T"
   ]
  },
  {
   "cell_type": "code",
   "execution_count": 50,
   "metadata": {},
   "outputs": [],
   "source": [
    "# Подготовим данные для модели\n",
    "X = df_.loc[:,df_.columns != 'Churn']\n",
    "y = df_.loc[:,df_.columns == 'Churn'].to_numpy()"
   ]
  },
  {
   "cell_type": "code",
   "execution_count": 51,
   "metadata": {},
   "outputs": [],
   "source": [
    "X_train, X_test, y_train, y_test = train_test_split(X, y, test_size=0.25, random_state=0)"
   ]
  },
  {
   "cell_type": "code",
   "execution_count": 52,
   "metadata": {},
   "outputs": [],
   "source": [
    "model_lg = LogisticRegression(max_iter = 1000, class_weight='balanced', random_state=42)\n",
    "tmp = model_lg.fit(X_train, y_train.ravel())\n",
    "y_pred_sample_score = tmp.decision_function(X_test)"
   ]
  },
  {
   "cell_type": "code",
   "execution_count": 53,
   "metadata": {},
   "outputs": [
    {
     "name": "stdout",
     "output_type": "stream",
     "text": [
      "              precision    recall  f1-score   support\n",
      "\n",
      "           0       0.91      0.72      0.80      1050\n",
      "           1       0.49      0.78      0.60       359\n",
      "\n",
      "    accuracy                           0.73      1409\n",
      "   macro avg       0.70      0.75      0.70      1409\n",
      "weighted avg       0.80      0.73      0.75      1409\n",
      "\n"
     ]
    }
   ],
   "source": [
    "y_pred  = model_lg.predict(X_test)\n",
    "y_pred_probs = model_lg.predict_proba(X_test)\n",
    "print(classification_report(y_test, y_pred))"
   ]
  },
  {
   "cell_type": "code",
   "execution_count": 54,
   "metadata": {},
   "outputs": [
    {
     "data": {
      "image/png": "[encoded data removed]",
      "text/plain": [
       "<Figure size 432x432 with 1 Axes>"
      ]
     },
     "metadata": {},
     "output_type": "display_data"
    }
   ],
   "source": [
    "fpr, tpr, thresholds = roc_curve(y_test, y_pred_sample_score)\n",
    "roc_auc = auc(fpr,tpr)\n",
    "# Plot ROC\n",
    "plt.figure(figsize=(6, 6))\n",
    "plt.title('Receiver Operating Characteristic')\n",
    "plt.plot(fpr, tpr, 'b',label='AUC = %0.3f'% roc_auc)\n",
    "plt.legend(loc='lower right')\n",
    "plt.plot([0,1],[0,1],'r--')\n",
    "plt.xlim([-0.1,1.0])\n",
    "plt.ylim([-0.1,1.01])\n",
    "plt.ylabel('True Positive Rate')\n",
    "plt.xlabel('False Positive Rate')\n",
    "plt.show()"
   ]
  },
  {
   "cell_type": "code",
   "execution_count": 55,
   "metadata": {},
   "outputs": [
    {
     "data": {
      "image/png": "[encoded data removed]",
      "text/plain": [
       "<Figure size 1080x360 with 2 Axes>"
      ]
     },
     "metadata": {},
     "output_type": "display_data"
    }
   ],
   "source": [
    "show_proba_calibration_plots(y_pred_probs[:, 1], y_test)"
   ]
  },
  {
   "cell_type": "code",
   "execution_count": 56,
   "metadata": {},
   "outputs": [],
   "source": [
    "def calc_pred3(x):\n",
    "    return np.array([1 if x >= 0.55 else 0 for x in x])"
   ]
  },
  {
   "cell_type": "code",
   "execution_count": 57,
   "metadata": {},
   "outputs": [],
   "source": [
    "# Проверим на отложенной выборке\n",
    "# Подготовим данные для модели\n",
    "X = dfd_.loc[:,dfd_.columns != 'Churn']\n",
    "y = dfd_.loc[:,dfd_.columns == 'Churn'].to_numpy()"
   ]
  },
  {
   "cell_type": "code",
   "execution_count": 61,
   "metadata": {},
   "outputs": [
    {
     "name": "stdout",
     "output_type": "stream",
     "text": [
      "*********** Логистическая регрессия ***********\n",
      "\n",
      "              precision    recall  f1-score   support\n",
      "\n",
      "           0       0.91      0.77      0.83      1036\n",
      "           1       0.55      0.78      0.64       373\n",
      "\n",
      "    accuracy                           0.77      1409\n",
      "   macro avg       0.73      0.77      0.74      1409\n",
      "weighted avg       0.81      0.77      0.78      1409\n",
      "\n"
     ]
    }
   ],
   "source": [
    "y_pred_probs = model_lg.predict_proba(X)\n",
    "y_pred = calc_pred3(y_pred_probs[:, 1])\n",
    "# С вероятностью распределения 0.55\n",
    "report_3 = classification_report(y, y_pred)\n",
    "print('*********** Логистическая регрессия ***********\\n')\n",
    "print(report_3)"
   ]
  },
  {
   "cell_type": "code",
   "execution_count": 62,
   "metadata": {},
   "outputs": [
    {
     "name": "stdout",
     "output_type": "stream",
     "text": [
      "*********** XGBoost ***********\n",
      "\n",
      "              precision    recall  f1-score   support\n",
      "\n",
      "           0       0.90      0.81      0.85      1036\n",
      "           1       0.58      0.74      0.65       373\n",
      "\n",
      "    accuracy                           0.79      1409\n",
      "   macro avg       0.74      0.77      0.75      1409\n",
      "weighted avg       0.81      0.79      0.80      1409\n",
      "\n"
     ]
    }
   ],
   "source": [
    "print('*********** XGBoost ***********\\n')\n",
    "print(report_2)"
   ]
  },
  {
   "cell_type": "code",
   "execution_count": 63,
   "metadata": {},
   "outputs": [
    {
     "name": "stdout",
     "output_type": "stream",
     "text": [
      "*********** CATBoost ***********\n",
      "\n",
      "              precision    recall  f1-score   support\n",
      "\n",
      "           0       0.91      0.74      0.82      1030\n",
      "           1       0.53      0.80      0.64       379\n",
      "\n",
      "    accuracy                           0.76      1409\n",
      "   macro avg       0.72      0.77      0.73      1409\n",
      "weighted avg       0.81      0.76      0.77      1409\n",
      "\n"
     ]
    }
   ],
   "source": [
    "print('*********** CATBoost ***********\\n')\n",
    "print(report_1)"
   ]
  },
  {
   "cell_type": "markdown",
   "metadata": {},
   "source": [
    "#### С небольшим отрывом лучший результат показал XGBoost"
   ]
  },
  {
   "cell_type": "code",
   "execution_count": null,
   "metadata": {},
   "outputs": [],
   "source": []
  }
 ],
 "metadata": {
  "kernelspec": {
   "display_name": "Python 3",
   "language": "python",
   "name": "python3"
  },
  "language_info": {
   "codemirror_mode": {
    "name": "ipython",
    "version": 3
   },
   "file_extension": ".py",
   "mimetype": "text/x-python",
   "name": "python",
   "nbconvert_exporter": "python",
   "pygments_lexer": "ipython3",
   "version": "3.7.6"
  }
 },
 "nbformat": 4,
 "nbformat_minor": 2
}
